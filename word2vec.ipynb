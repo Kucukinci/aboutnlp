{
  "nbformat": 4,
  "nbformat_minor": 0,
  "metadata": {
    "colab": {
      "provenance": []
    },
    "kernelspec": {
      "name": "python3",
      "display_name": "Python 3"
    },
    "language_info": {
      "name": "python"
    }
  },
  "cells": [
    {
      "cell_type": "code",
      "source": [
        "import pandas as pd"
      ],
      "metadata": {
        "id": "es5CC3svvE2a"
      },
      "execution_count": 13,
      "outputs": []
    },
    {
      "cell_type": "code",
      "source": [
        "import gensim "
      ],
      "metadata": {
        "id": "t2D-zrlDxTTV"
      },
      "execution_count": 19,
      "outputs": []
    },
    {
      "cell_type": "code",
      "source": [
        "df=pd.read_csv(\"/content/drive/MyDrive/magaza_yorumlari_duygu_analizi.csv\",encoding = \"utf-16\")"
      ],
      "metadata": {
        "id": "F-oeMqrywLWW"
      },
      "execution_count": 15,
      "outputs": []
    },
    {
      "cell_type": "code",
      "source": [
        "df.head()"
      ],
      "metadata": {
        "colab": {
          "base_uri": "https://localhost:8080/",
          "height": 206
        },
        "id": "nZxeTGbfwVzw",
        "outputId": "32196e76-6349-473d-f356-459856201ba6"
      },
      "execution_count": 16,
      "outputs": [
        {
          "output_type": "execute_result",
          "data": {
            "text/plain": [
              "                                               Görüş     Durum\n",
              "0  ses kalitesi ve ergonomisi rezalet, sony olduğ...   Olumsuz\n",
              "1                         hizli teslimat tesekkürler  Tarafsız\n",
              "2  ses olayı süper....gece çalıştır sıkıntı yok.....    Olumlu\n",
              "3  geldi bigün kullandık hemen bozoldu hiçtavsiye...   Olumsuz\n",
              "4  Kulaklığın sesi kaliteli falan değil. Aleti öv...   Olumsuz"
            ],
            "text/html": [
              "\n",
              "  <div id=\"df-f726c7e9-6e59-4f25-9e6e-3cda9ed2f0ee\">\n",
              "    <div class=\"colab-df-container\">\n",
              "      <div>\n",
              "<style scoped>\n",
              "    .dataframe tbody tr th:only-of-type {\n",
              "        vertical-align: middle;\n",
              "    }\n",
              "\n",
              "    .dataframe tbody tr th {\n",
              "        vertical-align: top;\n",
              "    }\n",
              "\n",
              "    .dataframe thead th {\n",
              "        text-align: right;\n",
              "    }\n",
              "</style>\n",
              "<table border=\"1\" class=\"dataframe\">\n",
              "  <thead>\n",
              "    <tr style=\"text-align: right;\">\n",
              "      <th></th>\n",
              "      <th>Görüş</th>\n",
              "      <th>Durum</th>\n",
              "    </tr>\n",
              "  </thead>\n",
              "  <tbody>\n",
              "    <tr>\n",
              "      <th>0</th>\n",
              "      <td>ses kalitesi ve ergonomisi rezalet, sony olduğ...</td>\n",
              "      <td>Olumsuz</td>\n",
              "    </tr>\n",
              "    <tr>\n",
              "      <th>1</th>\n",
              "      <td>hizli teslimat tesekkürler</td>\n",
              "      <td>Tarafsız</td>\n",
              "    </tr>\n",
              "    <tr>\n",
              "      <th>2</th>\n",
              "      <td>ses olayı süper....gece çalıştır sıkıntı yok.....</td>\n",
              "      <td>Olumlu</td>\n",
              "    </tr>\n",
              "    <tr>\n",
              "      <th>3</th>\n",
              "      <td>geldi bigün kullandık hemen bozoldu hiçtavsiye...</td>\n",
              "      <td>Olumsuz</td>\n",
              "    </tr>\n",
              "    <tr>\n",
              "      <th>4</th>\n",
              "      <td>Kulaklığın sesi kaliteli falan değil. Aleti öv...</td>\n",
              "      <td>Olumsuz</td>\n",
              "    </tr>\n",
              "  </tbody>\n",
              "</table>\n",
              "</div>\n",
              "      <button class=\"colab-df-convert\" onclick=\"convertToInteractive('df-f726c7e9-6e59-4f25-9e6e-3cda9ed2f0ee')\"\n",
              "              title=\"Convert this dataframe to an interactive table.\"\n",
              "              style=\"display:none;\">\n",
              "        \n",
              "  <svg xmlns=\"http://www.w3.org/2000/svg\" height=\"24px\"viewBox=\"0 0 24 24\"\n",
              "       width=\"24px\">\n",
              "    <path d=\"M0 0h24v24H0V0z\" fill=\"none\"/>\n",
              "    <path d=\"M18.56 5.44l.94 2.06.94-2.06 2.06-.94-2.06-.94-.94-2.06-.94 2.06-2.06.94zm-11 1L8.5 8.5l.94-2.06 2.06-.94-2.06-.94L8.5 2.5l-.94 2.06-2.06.94zm10 10l.94 2.06.94-2.06 2.06-.94-2.06-.94-.94-2.06-.94 2.06-2.06.94z\"/><path d=\"M17.41 7.96l-1.37-1.37c-.4-.4-.92-.59-1.43-.59-.52 0-1.04.2-1.43.59L10.3 9.45l-7.72 7.72c-.78.78-.78 2.05 0 2.83L4 21.41c.39.39.9.59 1.41.59.51 0 1.02-.2 1.41-.59l7.78-7.78 2.81-2.81c.8-.78.8-2.07 0-2.86zM5.41 20L4 18.59l7.72-7.72 1.47 1.35L5.41 20z\"/>\n",
              "  </svg>\n",
              "      </button>\n",
              "      \n",
              "  <style>\n",
              "    .colab-df-container {\n",
              "      display:flex;\n",
              "      flex-wrap:wrap;\n",
              "      gap: 12px;\n",
              "    }\n",
              "\n",
              "    .colab-df-convert {\n",
              "      background-color: #E8F0FE;\n",
              "      border: none;\n",
              "      border-radius: 50%;\n",
              "      cursor: pointer;\n",
              "      display: none;\n",
              "      fill: #1967D2;\n",
              "      height: 32px;\n",
              "      padding: 0 0 0 0;\n",
              "      width: 32px;\n",
              "    }\n",
              "\n",
              "    .colab-df-convert:hover {\n",
              "      background-color: #E2EBFA;\n",
              "      box-shadow: 0px 1px 2px rgba(60, 64, 67, 0.3), 0px 1px 3px 1px rgba(60, 64, 67, 0.15);\n",
              "      fill: #174EA6;\n",
              "    }\n",
              "\n",
              "    [theme=dark] .colab-df-convert {\n",
              "      background-color: #3B4455;\n",
              "      fill: #D2E3FC;\n",
              "    }\n",
              "\n",
              "    [theme=dark] .colab-df-convert:hover {\n",
              "      background-color: #434B5C;\n",
              "      box-shadow: 0px 1px 3px 1px rgba(0, 0, 0, 0.15);\n",
              "      filter: drop-shadow(0px 1px 2px rgba(0, 0, 0, 0.3));\n",
              "      fill: #FFFFFF;\n",
              "    }\n",
              "  </style>\n",
              "\n",
              "      <script>\n",
              "        const buttonEl =\n",
              "          document.querySelector('#df-f726c7e9-6e59-4f25-9e6e-3cda9ed2f0ee button.colab-df-convert');\n",
              "        buttonEl.style.display =\n",
              "          google.colab.kernel.accessAllowed ? 'block' : 'none';\n",
              "\n",
              "        async function convertToInteractive(key) {\n",
              "          const element = document.querySelector('#df-f726c7e9-6e59-4f25-9e6e-3cda9ed2f0ee');\n",
              "          const dataTable =\n",
              "            await google.colab.kernel.invokeFunction('convertToInteractive',\n",
              "                                                     [key], {});\n",
              "          if (!dataTable) return;\n",
              "\n",
              "          const docLinkHtml = 'Like what you see? Visit the ' +\n",
              "            '<a target=\"_blank\" href=https://colab.research.google.com/notebooks/data_table.ipynb>data table notebook</a>'\n",
              "            + ' to learn more about interactive tables.';\n",
              "          element.innerHTML = '';\n",
              "          dataTable['output_type'] = 'display_data';\n",
              "          await google.colab.output.renderOutput(dataTable, element);\n",
              "          const docLink = document.createElement('div');\n",
              "          docLink.innerHTML = docLinkHtml;\n",
              "          element.appendChild(docLink);\n",
              "        }\n",
              "      </script>\n",
              "    </div>\n",
              "  </div>\n",
              "  "
            ]
          },
          "metadata": {},
          "execution_count": 16
        }
      ]
    },
    {
      "cell_type": "code",
      "source": [
        "df.shape"
      ],
      "metadata": {
        "colab": {
          "base_uri": "https://localhost:8080/"
        },
        "id": "m-ejI1EzxDT7",
        "outputId": "cbc144dc-f5eb-4153-c649-7cab6bfee54f"
      },
      "execution_count": 17,
      "outputs": [
        {
          "output_type": "execute_result",
          "data": {
            "text/plain": [
              "(11429, 2)"
            ]
          },
          "metadata": {},
          "execution_count": 17
        }
      ]
    },
    {
      "cell_type": "code",
      "source": [
        "df.Görüş[0]"
      ],
      "metadata": {
        "colab": {
          "base_uri": "https://localhost:8080/",
          "height": 71
        },
        "id": "ekpnK7HpxJCm",
        "outputId": "924459ed-329f-40c6-fcf7-d0d98e5e87ae"
      },
      "execution_count": 18,
      "outputs": [
        {
          "output_type": "execute_result",
          "data": {
            "text/plain": [
              "\"ses kalitesi ve ergonomisi rezalet, sony olduğu için aldım ama 4'de 1 fiyatına çin replika ürün alsaydım çok çok daha iyiydi, kesinlikle tavsiye etmiyorum.\""
            ],
            "application/vnd.google.colaboratory.intrinsic+json": {
              "type": "string"
            }
          },
          "metadata": {},
          "execution_count": 18
        }
      ]
    },
    {
      "cell_type": "code",
      "source": [
        "gensim.utils.simple_preprocess(\"ses kalitesi ve ergonomisi rezalet, sony olduğu için aldım ama 4'de 1 fiyatına çin replika ürün alsaydım çok çok daha iyiydi, kesinlikle tavsiye etmiyorum.\")"
      ],
      "metadata": {
        "colab": {
          "base_uri": "https://localhost:8080/"
        },
        "id": "w-AWd-vjxN9G",
        "outputId": "816f1400-7d8e-4716-a3df-21a7a6d53808"
      },
      "execution_count": 20,
      "outputs": [
        {
          "output_type": "execute_result",
          "data": {
            "text/plain": [
              "['ses',\n",
              " 'kalitesi',\n",
              " 've',\n",
              " 'ergonomisi',\n",
              " 'rezalet',\n",
              " 'sony',\n",
              " 'olduğu',\n",
              " 'için',\n",
              " 'aldım',\n",
              " 'ama',\n",
              " 'de',\n",
              " 'fiyatına',\n",
              " 'çin',\n",
              " 'replika',\n",
              " 'ürün',\n",
              " 'alsaydım',\n",
              " 'çok',\n",
              " 'çok',\n",
              " 'daha',\n",
              " 'iyiydi',\n",
              " 'kesinlikle',\n",
              " 'tavsiye',\n",
              " 'etmiyorum']"
            ]
          },
          "metadata": {},
          "execution_count": 20
        }
      ]
    },
    {
      "cell_type": "code",
      "source": [
        "df= df.dropna(subset=['Görüş'])"
      ],
      "metadata": {
        "id": "Ei97uCAUy-Gz"
      },
      "execution_count": 24,
      "outputs": []
    },
    {
      "cell_type": "code",
      "source": [
        "review_text = df.Görüş.apply(gensim.utils.simple_preprocess)"
      ],
      "metadata": {
        "id": "MvmMAcNCxiVW"
      },
      "execution_count": 25,
      "outputs": []
    },
    {
      "cell_type": "code",
      "source": [
        "review_text"
      ],
      "metadata": {
        "colab": {
          "base_uri": "https://localhost:8080/"
        },
        "id": "CgeG8Zh1xy6m",
        "outputId": "a3e29557-8b46-477e-972b-b1bcf8e1f095"
      },
      "execution_count": 26,
      "outputs": [
        {
          "output_type": "execute_result",
          "data": {
            "text/plain": [
              "0        [ses, kalitesi, ve, ergonomisi, rezalet, sony,...\n",
              "1                           [hizli, teslimat, tesekkürler]\n",
              "2        [ses, olayı, süper, gece, çalıştır, sıkıntı, y...\n",
              "3        [geldi, bigün, kullandık, hemen, bozoldu, hiçt...\n",
              "4        [kulaklığın, sesi, kaliteli, falan, değil, ale...\n",
              "                               ...                        \n",
              "11424    [biraz, fazla, ısınıyor, ama, sorumsuz, çalışı...\n",
              "11425    [orijinal, ürün, fakat, ambalaj, bize, ulaşana...\n",
              "11426    [bu, cihazı, yıldır, kullanıyorum, cihazı, çok...\n",
              "11427    [bir, sene, olmadı, ayar, düğmesine, basıyorum...\n",
              "11428    [urun, kaliteli, zamaninda, tedlimat, ve, kull...\n",
              "Name: Görüş, Length: 11426, dtype: object"
            ]
          },
          "metadata": {},
          "execution_count": 26
        }
      ]
    },
    {
      "cell_type": "code",
      "source": [
        "model = gensim.models.Word2Vec(\n",
        "    window=10,\n",
        "    min_count=2,\n",
        "    workers=4,\n",
        ")"
      ],
      "metadata": {
        "id": "jomvg_a5zHis"
      },
      "execution_count": 27,
      "outputs": []
    },
    {
      "cell_type": "code",
      "source": [
        "model.build_vocab(review_text, progress_per=1000)"
      ],
      "metadata": {
        "id": "5ah9uGEozMFL"
      },
      "execution_count": 28,
      "outputs": []
    },
    {
      "cell_type": "code",
      "source": [
        "model.train(review_text, total_examples=model.corpus_count, epochs=model.epochs)"
      ],
      "metadata": {
        "colab": {
          "base_uri": "https://localhost:8080/"
        },
        "id": "b8pozUgwzPNS",
        "outputId": "6fc7df71-95e5-44e5-802e-1bf5855ca1cc"
      },
      "execution_count": 29,
      "outputs": [
        {
          "output_type": "execute_result",
          "data": {
            "text/plain": [
              "(996576, 1232085)"
            ]
          },
          "metadata": {},
          "execution_count": 29
        }
      ]
    },
    {
      "cell_type": "code",
      "source": [
        "model.save(\"./word2vec-satisyorumları.model\")"
      ],
      "metadata": {
        "id": "cRdUYp_FzUvq"
      },
      "execution_count": 30,
      "outputs": []
    },
    {
      "cell_type": "code",
      "source": [
        "model.wv.most_similar(\"ses\")\n"
      ],
      "metadata": {
        "colab": {
          "base_uri": "https://localhost:8080/"
        },
        "id": "6kPGt2j3zkS7",
        "outputId": "798179fd-17b2-4f47-9ed3-0b9c3ce41603"
      },
      "execution_count": 33,
      "outputs": [
        {
          "output_type": "execute_result",
          "data": {
            "text/plain": [
              "[('icraat', 0.9731688499450684),\n",
              " ('boğuk', 0.9704296588897705),\n",
              " ('fazla', 0.9664188027381897),\n",
              " ('değil', 0.9631571769714355),\n",
              " ('biraz', 0.955783486366272),\n",
              " ('kullanamazsınız', 0.9536930918693542),\n",
              " ('yokken', 0.9525860548019409),\n",
              " ('yükseklikte', 0.9503606557846069),\n",
              " ('sesi', 0.9481902122497559),\n",
              " ('düşükken', 0.9475111961364746)]"
            ]
          },
          "metadata": {},
          "execution_count": 33
        }
      ]
    },
    {
      "cell_type": "code",
      "source": [
        "model.wv.most_similar(\"kulaklık\")"
      ],
      "metadata": {
        "colab": {
          "base_uri": "https://localhost:8080/"
        },
        "id": "BnvTTcx0zyrV",
        "outputId": "8f365850-6f54-487e-f45e-f2fe6654fc5d"
      },
      "execution_count": 34,
      "outputs": [
        {
          "output_type": "execute_result",
          "data": {
            "text/plain": [
              "[('seviyeye', 0.9959623217582703),\n",
              " ('mikrofonu', 0.9955732226371765),\n",
              " ('düzeliyor', 0.9950251579284668),\n",
              " ('sıkarken', 0.9947970509529114),\n",
              " ('jbl', 0.9935027360916138),\n",
              " ('tiz', 0.9934797286987305),\n",
              " ('miktar', 0.9930946230888367),\n",
              " ('birinden', 0.9923791289329529),\n",
              " ('mantıklı', 0.9923700094223022),\n",
              " ('dinlerken', 0.992337703704834)]"
            ]
          },
          "metadata": {},
          "execution_count": 34
        }
      ]
    },
    {
      "cell_type": "code",
      "source": [
        "model.wv.most_similar(\"bilgisayar\")"
      ],
      "metadata": {
        "colab": {
          "base_uri": "https://localhost:8080/"
        },
        "id": "ZM_qKSlO0OpE",
        "outputId": "2d11408c-8005-4465-de9a-9a7215d01a17"
      },
      "execution_count": 35,
      "outputs": [
        {
          "output_type": "execute_result",
          "data": {
            "text/plain": [
              "[('cihaz', 0.9991905093193054),\n",
              " ('çin', 0.9990323781967163),\n",
              " ('gelmiyor', 0.9989563822746277),\n",
              " ('işte', 0.9987884759902954),\n",
              " ('kanal', 0.9986818432807922),\n",
              " ('klavye', 0.998675525188446),\n",
              " ('vr', 0.9985302686691284),\n",
              " ('mouse', 0.998517632484436),\n",
              " ('net', 0.9985090494155884),\n",
              " ('tuşlar', 0.9985015988349915)]"
            ]
          },
          "metadata": {},
          "execution_count": 35
        }
      ]
    },
    {
      "cell_type": "code",
      "source": [
        "model.wv.most_similar(\"mouse\")"
      ],
      "metadata": {
        "colab": {
          "base_uri": "https://localhost:8080/"
        },
        "id": "Wjxvt0YG0Uve",
        "outputId": "1595638e-15af-4904-d143-0b6c61e51126"
      },
      "execution_count": 38,
      "outputs": [
        {
          "output_type": "execute_result",
          "data": {
            "text/plain": [
              "[('kablosuz', 0.9988340139389038),\n",
              " ('düşünmüyorum', 0.9985519647598267),\n",
              " ('tercih', 0.9985466003417969),\n",
              " ('iri', 0.9985364675521851),\n",
              " ('bilgisayar', 0.998517632484436),\n",
              " ('monitör', 0.9985148906707764),\n",
              " ('gelmiyor', 0.9985090494155884),\n",
              " ('öyle', 0.9984033703804016),\n",
              " ('çin', 0.9983762502670288),\n",
              " ('ucuz', 0.9983625411987305)]"
            ]
          },
          "metadata": {},
          "execution_count": 38
        }
      ]
    },
    {
      "cell_type": "code",
      "source": [],
      "metadata": {
        "id": "c4rfEMqy0cVc"
      },
      "execution_count": null,
      "outputs": []
    }
  ]
}